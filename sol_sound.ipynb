{
 "cells": [
  {
   "cell_type": "code",
   "execution_count": 40,
   "metadata": {},
   "outputs": [],
   "source": [
    "import numpy as np\n",
    "import matplotlib.pyplot as plt\n",
    "import scipy\n",
    "import os"
   ]
  },
  {
   "cell_type": "markdown",
   "metadata": {},
   "source": [
    "# Sound recovery"
   ]
  },
  {
   "cell_type": "code",
   "execution_count": 41,
   "metadata": {},
   "outputs": [],
   "source": [
    "def omp(A, y, s):\n",
    "    # initialize\n",
    "    residual = y\n",
    "    index_set = []\n",
    "    x = np.zeros(A.shape[1])\n",
    "\n",
    "    for _ in range(s):\n",
    "        # find the most correlated column\n",
    "        idx = np.argmax(np.abs(A.T @ residual))\n",
    "        index_set.append(idx)\n",
    "        \n",
    "        # update the solution\n",
    "        A_selected = A[:, index_set]\n",
    "        x_temp = np.linalg.lstsq(A_selected, y, rcond=None)[0]  # least square solution\n",
    "        \n",
    "        # update the residual\n",
    "        residual = y - A_selected @ x_temp\n",
    "        \n",
    "        # if the residual is small enough, break\n",
    "        if np.linalg.norm(residual) < 1e-3:\n",
    "            break\n",
    "    \n",
    "    for i, idx in enumerate(index_set):\n",
    "        x[idx] = x_temp[i]\n",
    "    \n",
    "    return x"
   ]
  },
  {
   "cell_type": "code",
   "execution_count": 42,
   "metadata": {},
   "outputs": [],
   "source": [
    "import numpy as np\n",
    "from scipy.linalg import lstsq\n",
    "import sounddevice as sd\n",
    "from PIL import Image\n",
    "# The above defined libraries are sufficient to write the OMP code. Though you can use other libraries too. Do not use an OMP function from some library directly. \n",
    "# You have to code for it xD.\n",
    "\n",
    "Image.MAX_IMAGE_PIXELS = None \n",
    "\n",
    "def loading_data(address):\n",
    "    # Load compressed signal from .mat file\n",
    "    compressedSignal = scipy.io.loadmat(f'{address}compressedSignal.mat')['compressedSignal']\n",
    "    compressedSignal = compressedSignal.astype(np.float64)\n",
    "    \n",
    "    # Load compression matrix from .mat file\n",
    "    compressionMatrix = scipy.io.loadmat(f'{address}compressionMatrix.mat')['compressionMatrix']\n",
    "    \n",
    "    # Load and process D_compressed from .tiff file\n",
    "    D_compressed = Image.open(f'{address}CompressedBasis.tiff')\n",
    "    D_compressed = np.array(D_compressed).astype(np.float64)\n",
    "    D = D_compressed / 255.0 * 0.1284 - 0.0525\n",
    "    \n",
    "    return compressedSignal, D, compressionMatrix"
   ]
  },
  {
   "cell_type": "code",
   "execution_count": 43,
   "metadata": {},
   "outputs": [
    {
     "name": "stdout",
     "output_type": "stream",
     "text": [
      "compressedSignal: (3000, 1)\n",
      "D: (15980, 15980)\n",
      "compressionMatrix: (3000, 15980)\n"
     ]
    }
   ],
   "source": [
    "compressedSignal, D, compressionMatrix = loading_data('./sound_data/')\n",
    "print('compressedSignal:', compressedSignal.shape)\n",
    "print('D:', D.shape)\n",
    "print('compressionMatrix:', compressionMatrix.shape)"
   ]
  },
  {
   "cell_type": "code",
   "execution_count": 44,
   "metadata": {},
   "outputs": [],
   "source": [
    "import soundfile as sf\n",
    "# save the compressed signal as .wav file\n",
    "os.makedirs('./sound_results', exist_ok=True)\n",
    "sf.write('./sound_results/compressedSignal.wav', compressedSignal, int(7350/2))"
   ]
  },
  {
   "cell_type": "code",
   "execution_count": 45,
   "metadata": {},
   "outputs": [],
   "source": [
    "K_values = [10, 50, 100, 200, 300, 1000, 2000, 3000]\n",
    "\n",
    "for K in K_values:\n",
    "    selected_rows = compressionMatrix[:K, :]  # select the first K rows of the compression matrix\n",
    "    compressed_signal_segment = compressedSignal[:K]  # select the first K elements of the compressed signal\n",
    "\n",
    "    # omp\n",
    "    sparsity = 100\n",
    "    s = omp(selected_rows @ D, compressed_signal_segment, sparsity)\n",
    "\n",
    "    # reconstruct the signal\n",
    "    x = D @ s\n",
    "\n",
    "    # save the reconstructed signal\n",
    "    sf.write(f'./sound_results/reconstructed_sound_omp_K={K}.wav', x, 7350)\n"
   ]
  },
  {
   "cell_type": "code",
   "execution_count": 46,
   "metadata": {},
   "outputs": [],
   "source": [
    "K_values = [10, 50, 100, 200, 300, 1000, 2000, 3000]\n",
    "\n",
    "for K in K_values:\n",
    "    selected_rows = compressionMatrix[:K, :]  # select the first K rows of the compression matrix\n",
    "    compressed_signal_segment = compressedSignal[:K]  # select the first K elements of the compressed signal\n",
    "\n",
    "    # least square\n",
    "    s = np.linalg.lstsq(selected_rows @ D, compressed_signal_segment, rcond=None)[0]\n",
    "\n",
    "    # reconstruct the signal\n",
    "    x = D @ s\n",
    "\n",
    "    # save the reconstructed signal\n",
    "    sf.write(f'./sound_results/reconstructed_sound_lstsq_K={K}.wav', x, 7350)"
   ]
  }
 ],
 "metadata": {
  "kernelspec": {
   "display_name": "python38",
   "language": "python",
   "name": "python3"
  },
  "language_info": {
   "codemirror_mode": {
    "name": "ipython",
    "version": 3
   },
   "file_extension": ".py",
   "mimetype": "text/x-python",
   "name": "python",
   "nbconvert_exporter": "python",
   "pygments_lexer": "ipython3",
   "version": "3.8.18"
  }
 },
 "nbformat": 4,
 "nbformat_minor": 2
}
